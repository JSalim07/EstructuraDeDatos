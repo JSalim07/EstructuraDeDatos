{
  "nbformat": 4,
  "nbformat_minor": 0,
  "metadata": {
    "colab": {
      "provenance": []
    },
    "kernelspec": {
      "name": "python3",
      "display_name": "Python 3"
    },
    "language_info": {
      "name": "python"
    }
  },
  "cells": [
    {
      "cell_type": "markdown",
      "source": [
        "# ReverseList 1.1"
      ],
      "metadata": {
        "id": "bdREu-AHNhgP"
      }
    },
    {
      "cell_type": "code",
      "execution_count": null,
      "metadata": {
        "id": "eGOOzGT7HocU"
      },
      "outputs": [],
      "source": [
        "class ListNode:\n",
        "    def __init__(self, val=0, next=None):\n",
        "        self.val = val\n",
        "        self.next = next\n",
        "\n",
        "class Solution:\n",
        "    def reverseList(self, cabeza):\n",
        "        if not cabeza:\n",
        "            return None\n",
        "\n",
        "        pila = []  # Usamos pila para guardar nodos\n",
        "\n",
        "        nodo = cabeza  # Creamos referencia para recorrer la lista\n",
        "\n",
        "        # PASO 1: Meter todos los nodos en la pila\n",
        "        while nodo:\n",
        "            pila.append(nodo)\n",
        "            nodo = nodo.next\n",
        "\n",
        "        # PASO 2: Sacar el primer nodo para crear la nueva cabeza\n",
        "        nueva_cabeza = pila.pop()\n",
        "        actual = nueva_cabeza  # 'actual' apunta al último nodo que sacamos de la pila\n",
        "\n",
        "        # PASO 3: Ir sacando nodos de la pila y conectándolos\n",
        "        while pila:\n",
        "            nodo = pila.pop()\n",
        "            actual.next = nodo  # conectamos el nodo anterior al nodo actual\n",
        "            actual = nodo       # avanzamos en la lista invertida\n",
        "\n",
        "        # PASO 4: Cerramos la lista al final\n",
        "        actual.next = None\n",
        "\n",
        "        return nueva_cabeza\n"
      ]
    },
    {
      "cell_type": "markdown",
      "source": [
        "## Complejidad:\n",
        "\n",
        "O(n), porque recorremos la lista completa una vez para meter los nodos en la pila y luego otra vez para reconstruirla.\n",
        "\n",
        "## Explicación:\n",
        "\n",
        "\n",
        "\n",
        "1.   Inicializamos una pila para guardar temporalmente los nodos de la lista enlazada.\n",
        "2.   Recorremos la lista enlazada y agregamos cada nodo a la pila, para tenerlos en orden inverso\n",
        "3. Reconstruimos la lista enlazada al revés sacando cada nodo de la pila y conectándolos entre sí.\n",
        "4. Marcamos el final de la lista con None para indicar que la lista termina.\n",
        "5. Devolvemos la nueva cabeza de la lista, que es el nodo que estaba al final en la lista original.\n",
        "\n",
        "\n",
        "\n"
      ],
      "metadata": {
        "id": "JC_uszFmJ0w5"
      }
    },
    {
      "cell_type": "markdown",
      "source": [
        "# ReverseList 1.2"
      ],
      "metadata": {
        "id": "d9Chr4ufW5wy"
      }
    },
    {
      "cell_type": "code",
      "source": [
        "class ListNode:\n",
        "    def __init__(self, val=0, next=None):\n",
        "        self.val = val\n",
        "        self.next = next\n",
        "\n",
        "class Solution:\n",
        "    def reverseList(self, head):\n",
        "        # inicializamos dos punteros:\n",
        "        # prev es None porque no hay nada antes del primer nodo\n",
        "        prev = None\n",
        "        current = head  # current es el nodo que estamos procesando en cada paso\n",
        "\n",
        "        # Recorremos la lista hasta que current sea None (fin de la lista)\n",
        "        while current:\n",
        "            next_node = current.next  # guardamos el siguiente nodo antes de perder la referencia\n",
        "            current.next = prev       # invertimos el puntero del nodo actual para que apunte al anterior\n",
        "            prev = current            # movemos prev al nodo actual\n",
        "            current = next_node       # movemos current al siguiente nodo para continuar el proceso\n",
        "\n",
        "        # Al final, prev apunta al nuevo primer nodo (último de la lista original)\n",
        "        return prev\n"
      ],
      "metadata": {
        "id": "bnzAu-JqNx8F"
      },
      "execution_count": null,
      "outputs": []
    },
    {
      "cell_type": "markdown",
      "source": [
        "## Complejidad:\n",
        "\n",
        "recorre todos los nodos una vez, entonces es O(n).\n",
        "\n",
        "## Explicación:\n",
        "\n",
        "\n",
        "Este código invierte una lista enlazada, es decir, cambia el orden de sus nodos para que el último sea el primero y viceversa.\n",
        "\n",
        "Para hacerlo, usa dos punteros: uno que apunta al nodo anterior (prev) y otro al nodo actual (current). Recorre la lista cambiando, en cada paso, el enlace del nodo actual para que apunte al anterior, y luego avanza al siguiente nodo. Al final, devuelve el nuevo primer nodo de la lista invertida.\n",
        "\n",
        "\n"
      ],
      "metadata": {
        "id": "Wyz4qUyIW-fh"
      }
    },
    {
      "cell_type": "code",
      "source": [],
      "metadata": {
        "id": "UjXmVMdzYxS5"
      },
      "execution_count": null,
      "outputs": []
    }
  ]
}