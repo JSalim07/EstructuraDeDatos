{
  "nbformat": 4,
  "nbformat_minor": 0,
  "metadata": {
    "colab": {
      "provenance": []
    },
    "kernelspec": {
      "name": "python3",
      "display_name": "Python 3"
    },
    "language_info": {
      "name": "python"
    }
  },
  "cells": [
    {
      "cell_type": "markdown",
      "source": [
        "# 1. ReverseList\n",
        "Solucion 1"
      ],
      "metadata": {
        "id": "bdREu-AHNhgP"
      }
    },
    {
      "cell_type": "code",
      "execution_count": 1,
      "metadata": {
        "id": "eGOOzGT7HocU"
      },
      "outputs": [],
      "source": [
        "class ListNode:\n",
        "    def __init__(self, val=0, next=None):\n",
        "        self.val = val\n",
        "        self.next = next\n",
        "\n",
        "class Solution:\n",
        "    def reverseList(self, cabeza):\n",
        "        if not cabeza:\n",
        "            return None\n",
        "\n",
        "        pila = []  # Usamos pila para guardar nodos\n",
        "\n",
        "        nodo = cabeza  # Creamos referencia para recorrer la lista\n",
        "\n",
        "        # PASO 1: Meter todos los nodos en la pila\n",
        "        while nodo:\n",
        "            pila.append(nodo)\n",
        "            nodo = nodo.next\n",
        "\n",
        "        # PASO 2: Sacar el primer nodo para crear la nueva cabeza\n",
        "        nueva_cabeza = pila.pop()\n",
        "        actual = nueva_cabeza  # 'actual' apunta al último nodo que sacamos de la pila\n",
        "\n",
        "        # PASO 3: Ir sacando nodos de la pila y conectándolos\n",
        "        while pila:\n",
        "            nodo = pila.pop()\n",
        "            actual.next = nodo  # conectamos el nodo anterior al nodo actual\n",
        "            actual = nodo       # avanzamos en la lista invertida\n",
        "\n",
        "        # PASO 4: Cerramos la lista al final\n",
        "        actual.next = None\n",
        "\n",
        "        return nueva_cabeza\n"
      ]
    },
    {
      "cell_type": "markdown",
      "source": [
        "## Complejidad:\n",
        "\n",
        "O(n), porque recorremos la lista completa una vez para meter los nodos en la pila y luego otra vez para reconstruirla.\n",
        "\n",
        "## Explicación:\n",
        "\n",
        "\n",
        "\n",
        "1.   Inicializamos una pila para guardar temporalmente los nodos de la lista enlazada.\n",
        "2.   Recorremos la lista enlazada y agregamos cada nodo a la pila, para tenerlos en orden inverso\n",
        "3. Reconstruimos la lista enlazada al revés sacando cada nodo de la pila y conectándolos entre sí.\n",
        "4. Marcamos el final de la lista con None para indicar que la lista termina.\n",
        "5. Devolvemos la nueva cabeza de la lista, que es el nodo que estaba al final en la lista original.\n",
        "\n",
        "\n",
        "\n"
      ],
      "metadata": {
        "id": "JC_uszFmJ0w5"
      }
    },
    {
      "cell_type": "markdown",
      "source": [
        "solucion 2"
      ],
      "metadata": {
        "id": "d9Chr4ufW5wy"
      }
    },
    {
      "cell_type": "code",
      "source": [
        "class ListNode:\n",
        "    def __init__(self, val=0, next=None):\n",
        "        self.val = val\n",
        "        self.next = next\n",
        "\n",
        "class Solution:\n",
        "    def reverseList(self, head):\n",
        "        # inicializamos dos punteros:\n",
        "        # prev es None porque no hay nada antes del primer nodo\n",
        "        prev = None\n",
        "        current = head  # current es el nodo que estamos procesando en cada paso\n",
        "\n",
        "        # Recorremos la lista hasta que current sea None (fin de la lista)\n",
        "        while current:\n",
        "            next_node = current.next  # guardamos el siguiente nodo antes de perder la referencia\n",
        "            current.next = prev       # invertimos el puntero del nodo actual para que apunte al anterior\n",
        "            prev = current            # movemos prev al nodo actual\n",
        "            current = next_node       # movemos current al siguiente nodo para continuar el proceso\n",
        "\n",
        "        # Al final, prev apunta al nuevo primer nodo (último de la lista original)\n",
        "        return prev\n"
      ],
      "metadata": {
        "id": "bnzAu-JqNx8F"
      },
      "execution_count": null,
      "outputs": []
    },
    {
      "cell_type": "markdown",
      "source": [
        "## Complejidad:\n",
        "\n",
        "recorre todos los nodos una vez, entonces es O(n).\n",
        "\n",
        "## Explicación:\n",
        "\n",
        "\n",
        "Este código invierte una lista enlazada, es decir, cambia el orden de sus nodos para que el último sea el primero y viceversa.\n",
        "\n",
        "Para hacerlo, usa dos punteros: uno que apunta al nodo anterior (prev) y otro al nodo actual (current). Recorre la lista cambiando, en cada paso, el enlace del nodo actual para que apunte al anterior, y luego avanza al siguiente nodo. Al final, devuelve el nuevo primer nodo de la lista invertida.\n",
        "\n",
        "\n"
      ],
      "metadata": {
        "id": "Wyz4qUyIW-fh"
      }
    },
    {
      "cell_type": "markdown",
      "source": [
        "# 2. Rotar Array\n",
        "Solucion 1"
      ],
      "metadata": {
        "id": "pX39mn-vQ68q"
      }
    },
    {
      "cell_type": "code",
      "source": [
        "def rotate_array_reverse(nums, k):\n",
        "    n = len(nums)\n",
        "    k %= n  # Normalizamos k si es mayor que el tamaño del arreglo\n",
        "\n",
        "    # Función auxiliar para revertir una parte del arreglo\n",
        "    def reverse(start, end):\n",
        "        while start < end:\n",
        "            nums[start], nums[end] = nums[end], nums[start]\n",
        "            start += 1\n",
        "            end -= 1\n",
        "\n",
        "    # Revertimos todo el arreglo\n",
        "    reverse(0, n - 1)\n",
        "    # Revertimos los primeros k elementos\n",
        "    reverse(0, k - 1)\n",
        "    # Revertimos los elementos restantes\n",
        "    reverse(k, n - 1)\n",
        "\n",
        "# Caso de prueba\n",
        "nums1 = [1, 2, 3, 4, 5, 6, 7]\n",
        "rotate_array_reverse(nums1, 3)\n",
        "print(\"Output:\", nums1)\n",
        "\n",
        "nums2 = [-1, -100, 3, 99]\n",
        "rotate_array_reverse(nums2, 2)\n",
        "print(\"Output:\", nums2)\n"
      ],
      "metadata": {
        "id": "TmYOH_yeQ8O8"
      },
      "execution_count": null,
      "outputs": []
    },
    {
      "cell_type": "markdown",
      "source": [
        " Complejidad temporal: O(n)\n",
        " Complejidad espacial: O(1) (in-place, sin usar espacio adicional)"
      ],
      "metadata": {
        "id": "7q8nSfvcQ_uQ"
      }
    },
    {
      "cell_type": "markdown",
      "source": [
        "Solcuion 2"
      ],
      "metadata": {
        "id": "tEm3j9W1RHyi"
      }
    },
    {
      "cell_type": "code",
      "source": [
        "def rotate_array_slice(nums, k):\n",
        "    n = len(nums)\n",
        "    k %= n  # Normalizamos k si es mayor que el tamaño del arreglo\n",
        "    # Usamos slicing: tomamos los últimos k elementos y los primeros n-k\n",
        "    nums[:] = nums[-k:] + nums[:-k]\n",
        "\n",
        "# Caso de prueba\n",
        "nums3 = [1, 2, 3, 4, 5, 6, 7]\n",
        "rotate_array_slice(nums3, 3)\n",
        "print(\"Output:\", nums3)\n",
        "\n",
        "nums4 = [-1, -100, 3, 99]\n",
        "rotate_array_slice(nums4, 2)\n",
        "print(\"Output:\", nums4)"
      ],
      "metadata": {
        "id": "pfs2foxURNO-"
      },
      "execution_count": null,
      "outputs": []
    },
    {
      "cell_type": "markdown",
      "source": [
        " Complejidad temporal: O(n)\n",
        "Complejidad espacial: O(n) (usa espacio adicional al crear una nueva lista temporal)"
      ],
      "metadata": {
        "id": "4cMYoojSROPV"
      }
    },
    {
      "cell_type": "markdown",
      "source": [
        "# 3. Remover Elemento"
      ],
      "metadata": {
        "id": "5OvCx9LARSHK"
      }
    },
    {
      "cell_type": "markdown",
      "source": [
        "Solucion 1"
      ],
      "metadata": {
        "id": "sE4P7SdMRXOB"
      }
    },
    {
      "cell_type": "code",
      "source": [
        "def remove_element(nums, val):\n",
        "    k = 0  # Puntero para seguir la posición de elementos válidos\n",
        "\n",
        "    # Recorremos el arreglo\n",
        "    for i in range(len(nums)):\n",
        "        if nums[i] != val:\n",
        "            nums[k] = nums[i]  # Movemos el elemento válido a la posición k\n",
        "            k += 1  # Incrementamos k\n",
        "\n",
        "    return k  # Retornamos cuántos elementos válidos quedan\n",
        "\n",
        "# Caso de prueba\n",
        "nums1 = [3, 2, 2, 3]\n",
        "val1 = 3\n",
        "k1 = remove_element(nums1, val1)\n",
        "print(\"k =\", k1)\n",
        "print(\"nums =\", nums1[:k1] + [\"_\"] * (len(nums1) - k1))"
      ],
      "metadata": {
        "id": "l5V6IMgdRZed"
      },
      "execution_count": null,
      "outputs": []
    },
    {
      "cell_type": "markdown",
      "source": [
        " Complejidad temporal: O(n)\n",
        " Complejidad espacial: O(1) (se modifica el arreglo en el mismo lugar)"
      ],
      "metadata": {
        "id": "XGdnivybRbnl"
      }
    },
    {
      "cell_type": "markdown",
      "source": [
        "Solucion 2"
      ],
      "metadata": {
        "id": "_n4_QGJnReGm"
      }
    },
    {
      "cell_type": "code",
      "source": [
        "def remove_element_pop(nums, val):\n",
        "    i = 0\n",
        "    while i < len(nums):\n",
        "        if nums[i] == val:\n",
        "            nums.pop(i)  # Eliminamos directamente el elemento\n",
        "            # No incrementamos i porque el siguiente elemento se mueve a esta posición\n",
        "        else:\n",
        "            i += 1  # Solo avanzamos si no se eliminó nada\n",
        "    return len(nums)\n",
        "\n",
        "# Caso de prueba\n",
        "nums2 = [3, 2, 2, 3]\n",
        "val2 = 3\n",
        "k2 = remove_element_pop(nums2, val2)\n",
        "print(\"k =\", k2)\n",
        "print(\"nums =\", nums2 + [\"_\"] * (4 - k2))  # Mostramos los \"_\" igual que en Java"
      ],
      "metadata": {
        "id": "JgsIwMEVRgKJ"
      },
      "execution_count": null,
      "outputs": []
    },
    {
      "cell_type": "markdown",
      "source": [
        " Complejidad temporal: O(n^2) en el peor caso\n",
        " Complejidad espacial: O(1) (in-place, pero más lento)"
      ],
      "metadata": {
        "id": "mkFEC-TQRizh"
      }
    },
    {
      "cell_type": "markdown",
      "source": [
        "# 4. Eliminar Duplicados"
      ],
      "metadata": {
        "id": "9QPVsgmqRlpL"
      }
    },
    {
      "cell_type": "markdown",
      "source": [
        "Solucion 1"
      ],
      "metadata": {
        "id": "oNZn_ij0Rn3k"
      }
    },
    {
      "cell_type": "code",
      "source": [
        "def remove_duplicates(nums):\n",
        "    # Caso base: si el arreglo tiene 1 o 0 elementos, no hay duplicados\n",
        "    if len(nums) <= 1:\n",
        "        return len(nums)\n",
        "\n",
        "    write_index = 1  # Puntero para escribir elementos únicos\n",
        "\n",
        "    # Empezamos desde el segundo elemento\n",
        "    for read_index in range(1, len(nums)):\n",
        "        if nums[read_index] != nums[read_index - 1]:\n",
        "            nums[write_index] = nums[read_index]\n",
        "            write_index += 1  # Avanzamos cuando encontramos un valor nuevo\n",
        "\n",
        "    return write_index  # Cantidad de elementos únicos\n",
        "\n",
        "# Casos de prueba\n",
        "nums1 = [1, 1, 2]\n",
        "k1 = remove_duplicates(nums1)\n",
        "print(\"Unique count:\", k1)\n",
        "print(\"Modified array:\", nums1[:k1] + [\"_\"] * (len(nums1) - k1))  # [1, 2, _]\n",
        "\n",
        "nums2 = [0, 0, 1, 1, 1, 2, 2, 3, 3, 4]\n",
        "k2 = remove_duplicates(nums2)\n",
        "print(\"Unique count:\", k2)\n",
        "print(\"Modified array:\", nums2[:k2] + [\"_\"] * (len(nums2) - k2))  # [0, 1, 2, 3, 4, _, _, _, _, _]"
      ],
      "metadata": {
        "id": "y6MTQ7VpRqEK"
      },
      "execution_count": null,
      "outputs": []
    },
    {
      "cell_type": "markdown",
      "source": [
        "Tiempo: O(n) (una sola pasada por el arreglo)\n",
        "\n",
        "Espacio: O(1) (modifica en el mismo arreglo)"
      ],
      "metadata": {
        "id": "_aAZBoi_RuX0"
      }
    },
    {
      "cell_type": "markdown",
      "source": [
        "Solucion 2"
      ],
      "metadata": {
        "id": "xGUlDpwPRw1v"
      }
    },
    {
      "cell_type": "code",
      "source": [
        "def remove_duplicates_set(nums):\n",
        "    unique_sorted = sorted(set(nums))  # Elimina duplicados y ordena\n",
        "    for i in range(len(unique_sorted)):\n",
        "        nums[i] = unique_sorted[i]\n",
        "    return len(unique_sorted)\n",
        "\n",
        "# Prueba alternativa\n",
        "nums3 = [0, 0, 1, 1, 2, 2, 3]\n",
        "k3 = remove_duplicates_set(nums3)\n",
        "print(\"Unique count (set method):\", k3)\n",
        "print(\"Modified array:\", nums3[:k3] + [\"_\"] * (len(nums3) - k3))"
      ],
      "metadata": {
        "id": "L44aN9kmRyz0"
      },
      "execution_count": null,
      "outputs": []
    },
    {
      "cell_type": "markdown",
      "source": [
        "set(nums) elimina duplicados → O(n)\n",
        "\n",
        "sorted(...) ordena los únicos → O(n log n)\n",
        "\n",
        "Copia los valores al arreglo original → O(n)"
      ],
      "metadata": {
        "id": "aLrDBPcXR3G_"
      }
    },
    {
      "cell_type": "markdown",
      "source": [
        "# 5. Jump"
      ],
      "metadata": {
        "id": "9Wjj3afLR4Nc"
      }
    },
    {
      "cell_type": "markdown",
      "source": [
        "Solucion 1"
      ],
      "metadata": {
        "id": "yOBRnMuYR6zG"
      }
    },
    {
      "cell_type": "code",
      "source": [
        "def can_jump(nums):\n",
        "    max_reach = 0  # Alcanza máximo desde el índice actual\n",
        "    for i in range(len(nums)):\n",
        "        if i > max_reach:\n",
        "            # Si no puedo llegar a la posición i, retorno False\n",
        "            return False\n",
        "        # Actualizo el alcance máximo\n",
        "        max_reach = max(max_reach, i + nums[i])\n",
        "        if max_reach >= len(nums) - 1:\n",
        "            # Si ya puedo llegar o pasar el último índice, retorno True\n",
        "            return True\n",
        "    return False\n",
        "\n",
        "# Casos de prueba\n",
        "nums1 = [2, 3, 1, 1, 4]\n",
        "nums2 = [3, 2, 1, 0, 4]\n",
        "print(can_jump(nums1))  # Output: True\n",
        "print(can_jump(nums2))  # Output: False\n"
      ],
      "metadata": {
        "id": "06HcqPkCR82J"
      },
      "execution_count": null,
      "outputs": []
    },
    {
      "cell_type": "markdown",
      "source": [
        "Complejidad (Big O):\n",
        "Tiempo: O(n)\n",
        " Solo una pasada por el arreglo\n",
        "\n",
        "Espacio: O(1)\n",
        " No se usa espacio extra, todo es en variables"
      ],
      "metadata": {
        "id": "RJ_dhU2JSApr"
      }
    },
    {
      "cell_type": "markdown",
      "source": [
        "Solucion 2"
      ],
      "metadata": {
        "id": "D-AJj5rVSBn9"
      }
    },
    {
      "cell_type": "code",
      "source": [
        "def can_jump_recursive(nums):\n",
        "    memo = {}  # Guarda resultados intermedios para no repetir\n",
        "\n",
        "    def dfs(pos):\n",
        "        if pos in memo:\n",
        "            return memo[pos]\n",
        "        if pos >= len(nums) - 1:\n",
        "            return True\n",
        "        furthest = min(pos + nums[pos], len(nums) - 1)\n",
        "        for next_pos in range(pos + 1, furthest + 1):\n",
        "            if dfs(next_pos):\n",
        "                memo[pos] = True\n",
        "                return True\n",
        "        memo[pos] = False\n",
        "        return False\n",
        "\n",
        "    return dfs(0)\n",
        "\n",
        "# Prueba\n",
        "print(can_jump_recursive([2, 3, 1, 1, 4]))  # True\n",
        "print(can_jump_recursive([3, 2, 1, 0, 4]))  # False\n"
      ],
      "metadata": {
        "id": "LSQJO34sSDd9"
      },
      "execution_count": null,
      "outputs": []
    },
    {
      "cell_type": "markdown",
      "source": [
        "Greedy (original)\t✅ O(n)\t✅ O(1)\tMás rápido y eficiente\n",
        "Recursivo con memo\t❌ O(n²)\t❌ O(n)\tMás lento y costoso\n"
      ],
      "metadata": {
        "id": "mVVSLGPfSGEy"
      }
    },
    {
      "cell_type": "markdown",
      "source": [
        "# 6. zigzag"
      ],
      "metadata": {
        "id": "PTeT2xkbSI54"
      }
    },
    {
      "cell_type": "markdown",
      "source": [
        "Solucion 1"
      ],
      "metadata": {
        "id": "rTARNSLWSMAA"
      }
    },
    {
      "cell_type": "code",
      "source": [
        "def convert(s: str, numRows: int) -> str:\n",
        "    # Caso especial: si solo hay 1 fila, no se forma zigzag\n",
        "    if numRows == 1:\n",
        "        return s\n",
        "\n",
        "    # Creamos una lista de cadenas para cada fila\n",
        "    rows = ['' for _ in range(numRows)]\n",
        "\n",
        "    current_row = 0  # Índice de la fila actual\n",
        "    going_down = False  # Dirección del zigzag\n",
        "\n",
        "    # Recorremos cada carácter de la cadena\n",
        "    for c in s:\n",
        "        rows[current_row] += c  # Añadimos el carácter a la fila correspondiente\n",
        "        # Cambiamos de dirección en las esquinas\n",
        "        if current_row == 0 or current_row == numRows - 1:\n",
        "            going_down = not going_down\n",
        "        # Subimos o bajamos en zigzag\n",
        "        current_row += 1 if going_down else -1\n",
        "\n",
        "    # Unimos todas las filas\n",
        "    return ''.join(rows)\n",
        "\n",
        "# Pruebas\n",
        "print(convert(\"PAYPALISHIRING\", 3))  # \"PAHNAPLSIIGYIR\"\n",
        "print(convert(\"PAYPALISHIRING\", 4))  # \"PINALSIGYAHRPI\"\n",
        "print(convert(\"A\", 1))"
      ],
      "metadata": {
        "id": "2I8t3XmWSOAf"
      },
      "execution_count": null,
      "outputs": []
    },
    {
      "cell_type": "markdown",
      "source": [
        "Tiempo: O(n)\n",
        " Cada carácter se recorre exactamente una vez\n",
        "\n",
        "Espacio: O(n)\n",
        " Se usan numRows strings que al final contienen los n caracteres"
      ],
      "metadata": {
        "id": "_v9f0XXtSQsQ"
      }
    },
    {
      "cell_type": "markdown",
      "source": [
        "Solucion 2"
      ],
      "metadata": {
        "id": "HvxhiURlSSy4"
      }
    },
    {
      "cell_type": "code",
      "source": [
        "def convert_math(s: str, numRows: int) -> str:\n",
        "    if numRows == 1 or numRows >= len(s):\n",
        "        return s\n",
        "\n",
        "    result = []\n",
        "    cycle_len = 2 * numRows - 2  # Longitud del ciclo zigzag\n",
        "\n",
        "    for row in range(numRows):\n",
        "        for i in range(row, len(s), cycle_len):\n",
        "            result.append(s[i])\n",
        "            # Agrega el carácter del medio si no es la primera o última fila\n",
        "            diag = i + cycle_len - 2 * row\n",
        "            if row != 0 and row != numRows - 1 and diag < len(s):\n",
        "                result.append(s[diag])\n",
        "\n",
        "    return ''.join(result)\n",
        "\n",
        "# Pruebas\n",
        "print(convert_math(\"PAYPALISHIRING\", 3))  # \"PAHNAPLSIIGYIR\"\n",
        "print(convert_math(\"PAYPALISHIRING\", 4))  # \"PINALSIGYAHRPI\"\n",
        "print(convert_math(\"A\", 1))               # \"A\"\n"
      ],
      "metadata": {
        "id": "UwTt4OWpSUui"
      },
      "execution_count": null,
      "outputs": []
    },
    {
      "cell_type": "markdown",
      "source": [
        "Listas por fila (greedy)\t O(n)\t O(n)\n",
        "Matemático directo\t O(n)\t O(n)"
      ],
      "metadata": {
        "id": "fI_tD2MySX-n"
      }
    },
    {
      "cell_type": "markdown",
      "source": [
        "# 7. Jump 2"
      ],
      "metadata": {
        "id": "9tc_jY9pSY0i"
      }
    },
    {
      "cell_type": "markdown",
      "source": [
        "Solucion 1"
      ],
      "metadata": {
        "id": "JIAiMLFHSeAC"
      }
    },
    {
      "cell_type": "code",
      "source": [
        "def jump(nums):\n",
        "    n = len(nums)\n",
        "    jumps = 0           # Número de saltos\n",
        "    current_end = 0     # Límite del salto actual\n",
        "    farthest = 0        # El alcance más lejano desde posiciones previas\n",
        "\n",
        "    for i in range(n - 1):  # No necesitamos saltar desde la última posición\n",
        "        farthest = max(farthest, i + nums[i])\n",
        "        if i == current_end:\n",
        "            jumps += 1\n",
        "            current_end = farthest\n",
        "\n",
        "    return jumps\n",
        "\n",
        "# Pruebas\n",
        "print(jump([2, 3, 1, 1, 4]))  # Output: 2\n",
        "print(jump([2, 3, 0, 1, 4]))  # Output: 2"
      ],
      "metadata": {
        "id": "uSR28Jm4SgE7"
      },
      "execution_count": null,
      "outputs": []
    },
    {
      "cell_type": "markdown",
      "source": [
        "Complejidad Big O\n",
        "Tiempo: O(n)\n",
        "\n",
        "Espacio: O(1)"
      ],
      "metadata": {
        "id": "wz_hWwlESiRH"
      }
    },
    {
      "cell_type": "markdown",
      "source": [
        "Solucion 2"
      ],
      "metadata": {
        "id": "yaGBK7pRSk_j"
      }
    },
    {
      "cell_type": "code",
      "source": [
        "def jump_dp(nums):\n",
        "    n = len(nums)\n",
        "    dp = [float('inf')] * n  # dp[i] almacena el mínimo de saltos para llegar a i\n",
        "    dp[0] = 0  # Empezamos desde la posición 0\n",
        "\n",
        "    for i in range(n):\n",
        "        for j in range(1, nums[i] + 1):  # Todos los saltos posibles desde i\n",
        "            if i + j < n:\n",
        "                dp[i + j] = min(dp[i + j], dp[i] + 1)\n",
        "\n",
        "    return dp[-1]\n",
        "\n",
        "# Pruebas\n",
        "print(jump_dp([2, 3, 1, 1, 4]))  # Output: 2\n",
        "print(jump_dp([2, 3, 0, 1, 4]))  # Output: 2\n"
      ],
      "metadata": {
        "id": "sFuotuR-SnMH"
      },
      "execution_count": null,
      "outputs": []
    },
    {
      "cell_type": "markdown",
      "source": [
        "Complejidad Big O\n",
        "Tiempo: O(n²) en el peor caso\n",
        "\n",
        "Espacio: O(n)"
      ],
      "metadata": {
        "id": "KJDXn_E7SqT9"
      }
    }
  ]
}